{
 "cells": [
  {
   "cell_type": "code",
   "execution_count": 8,
   "metadata": {},
   "outputs": [],
   "source": [
    "import matplotlib.pyplot as plt\n",
    "import numpy as np\n",
    "from PIL import Image\n",
    "import os as os\n",
    "import pandas as pd\n",
    "from scipy.optimize import curve_fit\n",
    "from sklearn.metrics import r2_score\n",
    "from scipy import ndimage\n",
    "import statistics"
   ]
  },
  {
   "cell_type": "code",
   "execution_count": null,
   "metadata": {},
   "outputs": [],
   "source": [
    "#Get height and width of training images\n",
    "path=\"Z:/Poem/Rhizoboxes/Backup_RootPainter/drive_rp_sync/datasets/training_data_PE_rhizoboxes\"\n",
    "files=os.listdir(path)\n",
    "\n",
    "h=[]\n",
    "w=[]\n",
    "\n",
    "for file in files:\n",
    "        \n",
    "    #Load image and convert to greyscale\n",
    "    # L = R * 299/1000 + G * 587/1000 + B * 114/1000\n",
    "    image = np.array(Image.open(path+\"/\"+file).convert('L'))\n",
    "    \n",
    "    h.append(image.shape[0])\n",
    "    w.append(image.shape[1])"
   ]
  },
  {
   "cell_type": "code",
   "execution_count": null,
   "metadata": {},
   "outputs": [],
   "source": [
    "#Get summary statistics for height (training images)\n",
    "print(\"Average height: \"+str(round(statistics.mean(h)))+\" pixels\")\n",
    "print(\"Minimum height: \"+str(round(min(h)))+\" pixels\")\n",
    "print(\"Maximum height: \"+str(round(max(h)))+\" pixels\")"
   ]
  },
  {
   "cell_type": "code",
   "execution_count": null,
   "metadata": {},
   "outputs": [],
   "source": [
    "#Get summary statistics for width (training images)\n",
    "print(\"Average width: \"+str(round(statistics.mean(w)))+\" pixels\")\n",
    "print(\"Minimum width: \"+str(round(min(w)))+\" pixels\")\n",
    "print(\"Maximum width: \"+str(round(max(w)))+\" pixels\")"
   ]
  },
  {
   "cell_type": "code",
   "execution_count": 23,
   "metadata": {},
   "outputs": [],
   "source": [
    "#Image resolution (pixels/cm)\n",
    "res=94.8135\n",
    "\n",
    "#List segmented images in repository\n",
    "path=\"Z:/Poem/Rhizoboxes/Backup_RootPainter/drive_rp_sync/projects/PE_rhizotrons_2017_1/results/segmentations\"\n",
    "files=os.listdir(path)\n",
    "\n",
    "#Create empty array to story mean and max rooting depth values\n",
    "mrd=[]\n",
    "maxrd=[]\n",
    "\n",
    "for file in files:\n",
    "        \n",
    "    #Load image and convert to greyscale (root pixel is 1, background is 0)\n",
    "    # L = R * 299/1000 + G * 587/1000 + B * 114/1000\n",
    "    image = np.array(Image.open(path+\"/\"+file).convert('L'))\n",
    "    \n",
    "    #Replace values>0 by 1. Keep value=0 otherwise.\n",
    "    image = np.where(image>0, 1, 0)\n",
    "    \n",
    "    #Median filtering (denoising, 3x3 kernel)\n",
    "    image = ndimage.median_filter(image, size=3)\n",
    "    \n",
    "    #Sum the number of root pixels in each row (use axis=1 for row sums)\n",
    "    px = np.sum(image, axis=1)\n",
    "    \n",
    "    #Calculate total number of root pixels\n",
    "    totalpx = np.sum(px)\n",
    "    \n",
    "    if (totalpx>0):\n",
    "        \n",
    "        #Calculate average rooting depth\n",
    "        depth=np.array(range(0, len(px), 1))*(-1)/res\n",
    "    \n",
    "        mrd.append(np.sum(depth*np.array(px))/totalpx)\n",
    "        maxrd.append(depth[np.max(np.nonzero(px))])\n",
    "        \n",
    "    else:\n",
    "        \n",
    "        mrd.append(0)\n",
    "        maxrd.append(0)"
   ]
  },
  {
   "cell_type": "code",
   "execution_count": 24,
   "metadata": {},
   "outputs": [],
   "source": [
    "#Save results in a csv file (results.csv)\n",
    "output=\"Z:/Poem/Rhizoboxes/Backup_RootPainter/drive_rp_sync/projects/PE_rhizotrons_2017_1/results/segmentations\"\n",
    "results=pd.DataFrame(data={'image': files, 'mrd':mrd, 'maxrd':maxrd}).sort_values(by='image')\n",
    "results.to_csv(output+'/results.csv', index=False)"
   ]
  }
 ],
 "metadata": {
  "kernelspec": {
   "display_name": "Python 3",
   "language": "python",
   "name": "python3"
  },
  "language_info": {
   "codemirror_mode": {
    "name": "ipython",
    "version": 3
   },
   "file_extension": ".py",
   "mimetype": "text/x-python",
   "name": "python",
   "nbconvert_exporter": "python",
   "pygments_lexer": "ipython3",
   "version": "3.7.3"
  }
 },
 "nbformat": 4,
 "nbformat_minor": 2
}
